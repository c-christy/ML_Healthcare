{
 "cells": [
  {
   "cell_type": "code",
   "execution_count": null,
   "metadata": {},
   "outputs": [],
   "source": [
    "## To remove large values\n",
    "#DRUG 1314"
   ]
  },
  {
   "cell_type": "code",
   "execution_count": 1,
   "metadata": {},
   "outputs": [],
   "source": [
    "import pandas as pd\n",
    "import matplotlib.pyplot as plt\n",
    "import seaborn as sns\n",
    "import pandas as pd\n",
    "import numpy as np\n",
    "drug1516 = pd.read_sas('DUQ1516.XPT')"
   ]
  },
  {
   "cell_type": "code",
   "execution_count": 2,
   "metadata": {},
   "outputs": [],
   "source": [
    "drug1516=drug1516.drop(['DUQ220Q','DUQ270Q','DUQ270U','DUQ310Q','DUQ310U','DUQ350Q','DUQ350U','DUQ400Q','DUQ400U','DUQ370','DUQ390','DUQ430'],axis=1)"
   ]
  },
  {
   "cell_type": "code",
   "execution_count": 3,
   "metadata": {},
   "outputs": [],
   "source": [
    "drug1516=drug1516.drop(['DUQ220U','DUQ230','DUQ260','DUQ272','DUQ280','DUQ300','DUQ320','DUQ340','DUQ352','DUQ360','DUQ380A','DUQ380B','DUQ380C','DUQ380D','DUQ380E'],axis=1)"
   ]
  },
  {
   "cell_type": "code",
   "execution_count": 4,
   "metadata": {},
   "outputs": [],
   "source": [
    "drug1516['Missing_DUQ210']=0\n",
    "drug1516.loc[(drug1516.DUQ210.isnull()),'Missing_DUQ210']=1 \n",
    "drug1516['Missing_DUQ213']=0\n",
    "drug1516.loc[(drug1516.DUQ213.isnull()),'Missing_DUQ213']=1 \n",
    "\n",
    "drug1516['Missing_DUQ215Q']=0\n",
    "drug1516.loc[(drug1516.DUQ215Q.isnull()),'Missing_DUQ215Q']=1 \n",
    "drug1516['Missing_DUQ215U']=0\n",
    "drug1516.loc[(drug1516.DUQ215U.isnull()),'Missing_DUQ215U']=1 \n",
    "\n",
    "drug1516['Missing_DUQ219']=0\n",
    "drug1516.loc[(drug1516.DUQ219.isnull()),'Missing_DUQ219']=1 \n",
    "drug1516['Missing_DUQ410']=0\n",
    "drug1516.loc[(drug1516.DUQ410.isnull()),'Missing_DUQ410']=1 \n"
   ]
  },
  {
   "cell_type": "code",
   "execution_count": 5,
   "metadata": {},
   "outputs": [],
   "source": [
    "list = [drug1516]\n",
    "for i in list:\n",
    "    i['DUQ215'] = i.DUQ215Q * i.DUQ215U\n",
    "drug1516['Missing_DUQ215']=0\n",
    "drug1516.loc[(drug1516.DUQ215.isnull()),'Missing_DUQ215']=1 "
   ]
  },
  {
   "cell_type": "code",
   "execution_count": 6,
   "metadata": {},
   "outputs": [],
   "source": [
    "values = {'DUQ200':0,'DUQ210':0,'DUQ211': 0, 'DUQ213':0, 'DUQ217':0, 'DUQ219':0, 'DUQ240':0,'DUQ250':0,'DUQ290':0,'DUQ330':0,'DUQ410':0,'DUQ420':0,'DUQ430':0}\n",
    "drug1516 = drug1516.fillna(value=values)"
   ]
  },
  {
   "cell_type": "code",
   "execution_count": 7,
   "metadata": {},
   "outputs": [],
   "source": [
    "values = {'DUQ215Q':0,'DUQ215U':0}\n",
    "drug1516 = drug1516.fillna(value=values)"
   ]
  },
  {
   "cell_type": "code",
   "execution_count": 8,
   "metadata": {},
   "outputs": [],
   "source": [
    "list = [drug1516]\n",
    "for i in list:\n",
    "    i['DUQ215'] = i.DUQ215Q * i.DUQ215U"
   ]
  },
  {
   "cell_type": "code",
   "execution_count": 9,
   "metadata": {},
   "outputs": [
    {
     "data": {
      "text/plain": [
       "SEQN               0\n",
       "DUQ200             0\n",
       "DUQ210             0\n",
       "DUQ211             0\n",
       "DUQ213             0\n",
       "DUQ215Q            0\n",
       "DUQ215U            0\n",
       "DUQ217             0\n",
       "DUQ219             0\n",
       "DUQ240             0\n",
       "DUQ250             0\n",
       "DUQ290             0\n",
       "DUQ330             0\n",
       "DUQ410             0\n",
       "DUQ420             0\n",
       "Missing_DUQ210     0\n",
       "Missing_DUQ213     0\n",
       "Missing_DUQ215Q    0\n",
       "Missing_DUQ215U    0\n",
       "Missing_DUQ219     0\n",
       "Missing_DUQ410     0\n",
       "DUQ215             0\n",
       "Missing_DUQ215     0\n",
       "dtype: int64"
      ]
     },
     "execution_count": 9,
     "metadata": {},
     "output_type": "execute_result"
    }
   ],
   "source": [
    "drug1516.isnull().sum()"
   ]
  },
  {
   "cell_type": "code",
   "execution_count": 2,
   "metadata": {},
   "outputs": [],
   "source": [
    "drug1314 = pd.read_sas('DUQ_H.XPT')"
   ]
  },
  {
   "cell_type": "code",
   "execution_count": 3,
   "metadata": {},
   "outputs": [],
   "source": [
    "drug1314=drug1314.drop(['DUQ220Q','DUQ270Q','DUQ270U','DUQ310Q','DUQ310U','DUQ350Q','DUQ350U','DUQ400Q','DUQ400U','DUQ370','DUQ390','DUQ430'],axis=1)"
   ]
  },
  {
   "cell_type": "code",
   "execution_count": 4,
   "metadata": {},
   "outputs": [],
   "source": [
    "drug1314=drug1314.drop(['DUQ220U','DUQ230','DUQ260','DUQ272','DUQ280','DUQ300','DUQ320','DUQ340','DUQ352','DUQ360','DUQ380A','DUQ380B','DUQ380C','DUQ380D','DUQ380E'],axis=1)"
   ]
  },
  {
   "cell_type": "code",
   "execution_count": 5,
   "metadata": {},
   "outputs": [],
   "source": [
    "drug1314['Missing_DUQ210']=0\n",
    "drug1314.loc[(drug1314.DUQ210.isnull()),'Missing_DUQ210']=1 \n",
    "drug1314['Missing_DUQ213']=0\n",
    "drug1314.loc[(drug1314.DUQ213.isnull()),'Missing_DUQ213']=1 \n",
    "\n",
    "drug1314['Missing_DUQ215Q']=0\n",
    "drug1314.loc[(drug1314.DUQ215Q.isnull()),'Missing_DUQ215Q']=1 \n",
    "drug1314['Missing_DUQ215U']=0\n",
    "drug1314.loc[(drug1314.DUQ215U.isnull()),'Missing_DUQ215U']=1 \n",
    "\n",
    "drug1314['Missing_DUQ219']=0\n",
    "drug1314.loc[(drug1314.DUQ219.isnull()),'Missing_DUQ219']=1 \n",
    "drug1314['Missing_DUQ410']=0\n",
    "drug1314.loc[(drug1314.DUQ410.isnull()),'Missing_DUQ410']=1 "
   ]
  },
  {
   "cell_type": "code",
   "execution_count": 6,
   "metadata": {},
   "outputs": [],
   "source": [
    "list = [drug1314]\n",
    "for i in list:\n",
    "    i['DUQ215'] = i.DUQ215Q * i.DUQ215U\n",
    "drug1314['Missing_DUQ215']=0\n",
    "drug1314.loc[(drug1314.DUQ215.isnull()),'Missing_DUQ215']=1 \n"
   ]
  },
  {
   "cell_type": "code",
   "execution_count": 7,
   "metadata": {},
   "outputs": [],
   "source": [
    "values = {'DUQ200':0,'DUQ210':0,'DUQ211': 0, 'DUQ213':0, 'DUQ215Q':0,'DUQ215U':0, 'DUQ217':0, 'DUQ219':0, 'DUQ240':0,'DUQ250':0,'DUQ290':0,'DUQ330':0,'DUQ410':0,'DUQ420':0,'DUQ430':0}\n",
    "drug1314 = drug1314.fillna(value=values)"
   ]
  },
  {
   "cell_type": "code",
   "execution_count": 8,
   "metadata": {},
   "outputs": [],
   "source": [
    "values = {'DUQ215':0}\n",
    "drug1314 = drug1314.fillna(value=values)"
   ]
  },
  {
   "cell_type": "code",
   "execution_count": 9,
   "metadata": {},
   "outputs": [
    {
     "data": {
      "text/plain": [
       "SEQN               0\n",
       "DUQ200             0\n",
       "DUQ210             0\n",
       "DUQ211             0\n",
       "DUQ213             0\n",
       "DUQ215Q            0\n",
       "DUQ215U            0\n",
       "DUQ217             0\n",
       "DUQ219             0\n",
       "DUQ240             0\n",
       "DUQ250             0\n",
       "DUQ290             0\n",
       "DUQ330             0\n",
       "DUQ410             0\n",
       "DUQ420             0\n",
       "Missing_DUQ210     0\n",
       "Missing_DUQ213     0\n",
       "Missing_DUQ215Q    0\n",
       "Missing_DUQ215U    0\n",
       "Missing_DUQ219     0\n",
       "Missing_DUQ410     0\n",
       "DUQ215             0\n",
       "Missing_DUQ215     0\n",
       "dtype: int64"
      ]
     },
     "execution_count": 9,
     "metadata": {},
     "output_type": "execute_result"
    }
   ],
   "source": [
    "drug1314.isnull().sum()"
   ]
  },
  {
   "cell_type": "code",
   "execution_count": 11,
   "metadata": {},
   "outputs": [],
   "source": [
    "drug1314.to_csv('drug1314.csv',index=True)"
   ]
  },
  {
   "cell_type": "code",
   "execution_count": 11,
   "metadata": {},
   "outputs": [],
   "source": [
    "drug1516.to_csv('drug1516.csv',index=True)"
   ]
  },
  {
   "cell_type": "code",
   "execution_count": null,
   "metadata": {},
   "outputs": [],
   "source": []
  }
 ],
 "metadata": {
  "kernelspec": {
   "display_name": "Python 3",
   "language": "python",
   "name": "python3"
  },
  "language_info": {
   "codemirror_mode": {
    "name": "ipython",
    "version": 3
   },
   "file_extension": ".py",
   "mimetype": "text/x-python",
   "name": "python",
   "nbconvert_exporter": "python",
   "pygments_lexer": "ipython3",
   "version": "3.7.1"
  }
 },
 "nbformat": 4,
 "nbformat_minor": 2
}
