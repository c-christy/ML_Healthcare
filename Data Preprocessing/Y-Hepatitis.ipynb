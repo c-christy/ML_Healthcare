{
 "cells": [
  {
   "cell_type": "code",
   "execution_count": null,
   "metadata": {},
   "outputs": [],
   "source": [
    "import pandas as pd"
   ]
  },
  {
   "cell_type": "code",
   "execution_count": null,
   "metadata": {},
   "outputs": [],
   "source": [
    "#make 13-16year hepatitis response"
   ]
  },
  {
   "cell_type": "code",
   "execution_count": null,
   "metadata": {},
   "outputs": [],
   "source": [
    "hbc1314 = pd.read_sas('HEPBD_H.XPT')\n",
    "hbc1314 = hbc1314.dropna()"
   ]
  },
  {
   "cell_type": "code",
   "execution_count": null,
   "metadata": {},
   "outputs": [],
   "source": [
    "hbc1516 = pd.read_sas('HEPBD_I.XPT')\n",
    "hbc1516 = hbc1516.dropna(subset=['LBXHBC'])"
   ]
  },
  {
   "cell_type": "code",
   "execution_count": null,
   "metadata": {},
   "outputs": [],
   "source": [
    "hbc1314['HepatitisB'] = 0\n",
    "hbc1516['HepatitisB'] = 0"
   ]
  },
  {
   "cell_type": "code",
   "execution_count": null,
   "metadata": {},
   "outputs": [],
   "source": [
    "hbc1314.loc[(hbc1314.LBXHBC == 1)|(hbc1314.LBDHBG == 1), 'HepatitisB'] = 1\n",
    "hbc1516.loc[(hbc1516.LBXHBC == 1)|(hbc1516.LBDHBG == 1), 'HepatitisB'] = 1"
   ]
  },
  {
   "cell_type": "code",
   "execution_count": null,
   "metadata": {},
   "outputs": [],
   "source": [
    "hbc1314.to_csv('hepatitisB.csv', index = None, header = True)\n",
    "hbc1516.to_csv('hepatitisB.csv', index = None, header = True)"
   ]
  },
  {
   "cell_type": "code",
   "execution_count": null,
   "metadata": {},
   "outputs": [],
   "source": [
    "hcc1314 = pd.read_sas('SSHEPC_H.XPT')\n",
    "hcc1314 = hcc1314.dropna()"
   ]
  },
  {
   "cell_type": "code",
   "execution_count": null,
   "metadata": {},
   "outputs": [],
   "source": [
    "hcr1516 = pd.read_sas('HEPC_I.XPT')\n",
    "hcr1516 = hcr1516.dropna(subset=['LBXHCR'])"
   ]
  },
  {
   "cell_type": "code",
   "execution_count": null,
   "metadata": {},
   "outputs": [],
   "source": [
    "hcc1314['HepatitisC'] = 0\n",
    "hcc1314.loc[(hcc1314.LBDHCI == 1)|(hcc1314.LBDHCI == 4),'HepatitisC'] = 1"
   ]
  },
  {
   "cell_type": "code",
   "execution_count": null,
   "metadata": {},
   "outputs": [],
   "source": [
    "hcr1516['HepatitisC'] = 0\n",
    "hcr1516.loc[(hcr1516.LBXHCR == 1), \"HepatitisC\"] = 1"
   ]
  },
  {
   "cell_type": "code",
   "execution_count": null,
   "metadata": {},
   "outputs": [],
   "source": [
    "hcc1314.to_csv('hepatitisC.csv', index = None, header = True)\n",
    "hcr1516.to_csv('HepatitisC.csv')"
   ]
  },
  {
   "cell_type": "code",
   "execution_count": null,
   "metadata": {},
   "outputs": [],
   "source": [
    "#use r to combine Hepatitis B and Hepatitis C to a csv file called combine\n",
    "'''\n",
    "setwd(\"/Users/aimeechen/Desktop/Berkeley/capstone/capstone/hepatitis/1314\")\n",
    "hepatitis = read.csv(\"hepatitisB.csv\",sep = \",\")\n",
    "hc = read.csv(\"hepatitisC.csv\",sep = \",\")\n",
    "seqn = read.csv(\"SEQN1314.csv\", sep = \";\")\n",
    "head(hc)\n",
    "a <- merge(seqn, hepatitis, by = \"SEQN\", all = TRUE)\n",
    "b <- merge(a, hc, by = \"SEQN\", all = TRUE)\n",
    "write.csv(b, file = \"/Users/aimeechen/Desktop/Berkeley/capstone/capstone/hepatitis/1314/combined1314hepatitis.csv\")\n",
    "'''\n",
    "'''\n",
    "setwd(\"/Users/aimeechen/Desktop/Berkeley/capstone/capstone/hepatitis/1516\")\n",
    "hepatitis = read.csv(\"hepatitisB.csv\",sep = \",\")\n",
    "hc = read.csv(\"hepatitisC.csv\",sep = \",\")\n",
    "seqn = read.csv(\"SEQN1516.csv\", sep = \";\")\n",
    "head(hc)\n",
    "a <- merge(seqn, hepatitis, by = \"SEQN\", all = TRUE)\n",
    "b <- merge(a, hc, by = \"SEQN\", all = TRUE)\n",
    "write.csv(b, file = \"/Users/aimeechen/Desktop/Berkeley/capstone/capstone/hepatitis/1516/combined1516hepatitis.csv\")\n",
    "'''"
   ]
  },
  {
   "cell_type": "code",
   "execution_count": null,
   "metadata": {},
   "outputs": [],
   "source": [
    "combine1314 = pd.read_csv('combined1314hepatitis.csv')\n",
    "combine1516 = pd.read_csv('combined1516hepatitis.csv')"
   ]
  },
  {
   "cell_type": "code",
   "execution_count": null,
   "metadata": {},
   "outputs": [],
   "source": [
    "combine1314 = combine1314.dropna()\n",
    "combine1516 = combine1516.dropna()"
   ]
  },
  {
   "cell_type": "code",
   "execution_count": null,
   "metadata": {},
   "outputs": [],
   "source": [
    "combine1314['Hepatitis'] = 0\n",
    "combine1516['Hepatitis'] = 0"
   ]
  },
  {
   "cell_type": "code",
   "execution_count": null,
   "metadata": {},
   "outputs": [],
   "source": [
    "combine1314.loc[(combine1314.HepatitisB == 1)|(combine1314.HepatitisC == 1), \"Hepatitis\"] = 1\n",
    "combine1516.loc[(combine1516.HepatitisB == 1)|(combine1516.HepatitisC == 1), \"Hepatitis\"] = 1"
   ]
  },
  {
   "cell_type": "code",
   "execution_count": null,
   "metadata": {},
   "outputs": [],
   "source": [
    "combine1314.to_csv('FinalResultHepatitis1314.csv', index=False)\n",
    "combine1516.to_csv(r'/Users/aimeechen/Desktop/Berkeley/capstone/capstone/hepatitis/1516/FinalResultHepatitis1516.csv', index=False)"
   ]
  }
 ],
 "metadata": {
  "kernelspec": {
   "display_name": "Python 3",
   "language": "python",
   "name": "python3"
  },
  "language_info": {
   "codemirror_mode": {
    "name": "ipython",
    "version": 3
   },
   "file_extension": ".py",
   "mimetype": "text/x-python",
   "name": "python",
   "nbconvert_exporter": "python",
   "pygments_lexer": "ipython3",
   "version": "3.7.1"
  }
 },
 "nbformat": 4,
 "nbformat_minor": 2
}
