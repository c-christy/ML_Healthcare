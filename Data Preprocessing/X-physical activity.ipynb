{
 "cells": [
  {
   "cell_type": "code",
   "execution_count": 1,
   "metadata": {},
   "outputs": [],
   "source": [
    "import pandas as pd\n",
    "import numpy as np"
   ]
  },
  {
   "cell_type": "code",
   "execution_count": 2,
   "metadata": {},
   "outputs": [],
   "source": [
    "physical1314 = pd.read_sas('PAQ_H.XPT')\n",
    "physical1516 = pd.read_sas('PAQ_I.XPT')"
   ]
  },
  {
   "cell_type": "code",
   "execution_count": 3,
   "metadata": {},
   "outputs": [],
   "source": [
    "physical1314.drop(physical1314.columns[56:97],axis=1,inplace=True)\n",
    "physical1516.drop(physical1516.columns[56:97],axis=1,inplace=True)"
   ]
  },
  {
   "cell_type": "code",
   "execution_count": 5,
   "metadata": {},
   "outputs": [],
   "source": [
    "physical1314.iloc[:,21:54] = physical1314.iloc[:,21:54].fillna(0)\n",
    "physical1516.iloc[:,21:54] = physical1516.iloc[:,21:54].fillna(0)"
   ]
  },
  {
   "cell_type": "code",
   "execution_count": 6,
   "metadata": {},
   "outputs": [],
   "source": [
    "physical1314.PAQ605 = physical1314.PAQ605.fillna(10)\n",
    "physical1516.PAQ605 = physical1516.PAQ605.fillna(10)"
   ]
  },
  {
   "cell_type": "code",
   "execution_count": 7,
   "metadata": {},
   "outputs": [],
   "source": [
    "physical1314['Missing_PAQ610'] = 0\n",
    "physical1516['Missing_PAQ610'] = 0"
   ]
  },
  {
   "cell_type": "code",
   "execution_count": 8,
   "metadata": {},
   "outputs": [],
   "source": [
    "physical1314.loc[(physical1314.PAQ610.isnull()), 'Missing_PAQ610'] = 1\n",
    "physical1516.loc[(physical1516.PAQ610.isnull()), 'Missing_PAQ610'] = 1"
   ]
  },
  {
   "cell_type": "code",
   "execution_count": 9,
   "metadata": {},
   "outputs": [],
   "source": [
    "physical1314.PAQ610 = physical1314.PAQ610.fillna(0)\n",
    "physical1516.PAQ610 = physical1516.PAQ610.fillna(0)"
   ]
  },
  {
   "cell_type": "code",
   "execution_count": 10,
   "metadata": {},
   "outputs": [],
   "source": [
    "physical1314.loc[(physical1314.PAQ610 == 77)|(physical1314.PAQ610 == 99), 'PAQ610'] = 0\n",
    "physical1516.loc[(physical1516.PAQ610 == 77)|(physical1516.PAQ610 == 99), 'PAQ610'] = 0"
   ]
  },
  {
   "cell_type": "code",
   "execution_count": 11,
   "metadata": {},
   "outputs": [],
   "source": [
    "physical1314['Missing_PAD615'] = 0\n",
    "physical1516['Missing_PAD615'] = 0"
   ]
  },
  {
   "cell_type": "code",
   "execution_count": 12,
   "metadata": {},
   "outputs": [],
   "source": [
    "physical1314.loc[(physical1314.PAD615.isnull()), 'Missing_PAD615'] = 1\n",
    "physical1516.loc[(physical1516.PAD615.isnull()), 'Missing_PAD615'] = 1"
   ]
  },
  {
   "cell_type": "code",
   "execution_count": 13,
   "metadata": {},
   "outputs": [],
   "source": [
    "physical1314.PAD615 = physical1314.PAD615.fillna(0)\n",
    "physical1516.PAD615 = physical1516.PAD615.fillna(0)"
   ]
  },
  {
   "cell_type": "code",
   "execution_count": 14,
   "metadata": {},
   "outputs": [],
   "source": [
    "physical1314.loc[(physical1314.PAD615 == 7777)|(physical1314.PAD615 == 9999), 'PAD615'] = 0\n",
    "physical1516.loc[(physical1516.PAD615 == 7777)|(physical1516.PAD615 == 9999), 'PAD615'] = 0"
   ]
  },
  {
   "cell_type": "code",
   "execution_count": 15,
   "metadata": {},
   "outputs": [],
   "source": [
    "physical1314.PAQ620 = physical1314.PAQ620.fillna(10)\n",
    "physical1516.PAQ620 = physical1516.PAQ620.fillna(10)"
   ]
  },
  {
   "cell_type": "code",
   "execution_count": 16,
   "metadata": {},
   "outputs": [],
   "source": [
    "physical1314['Missing_PAQ625'] = 0\n",
    "physical1516['Missing_PAQ625'] = 0"
   ]
  },
  {
   "cell_type": "code",
   "execution_count": 17,
   "metadata": {},
   "outputs": [],
   "source": [
    "physical1314.loc[(physical1314.PAQ625.isnull()), 'Missing_PAQ625'] = 1\n",
    "physical1516.loc[(physical1516.PAQ625.isnull()), 'Missing_PAQ625'] = 1"
   ]
  },
  {
   "cell_type": "code",
   "execution_count": 18,
   "metadata": {},
   "outputs": [],
   "source": [
    "physical1314.PAQ625 = physical1314.PAQ625.fillna(0)\n",
    "physical1516.PAQ625 = physical1516.PAQ625.fillna(0)"
   ]
  },
  {
   "cell_type": "code",
   "execution_count": 19,
   "metadata": {},
   "outputs": [],
   "source": [
    "physical1314.loc[(physical1314.PAQ625 == 77)|(physical1314.PAQ625 == 99), 'PAQ625'] = 0\n",
    "physical1516.loc[(physical1516.PAQ625 == 77)|(physical1516.PAQ625 == 99), 'PAQ625'] = 0"
   ]
  },
  {
   "cell_type": "code",
   "execution_count": 20,
   "metadata": {},
   "outputs": [],
   "source": [
    "physical1314['Missing_PAD630'] = 0\n",
    "physical1516['Missing_PAD630'] = 0"
   ]
  },
  {
   "cell_type": "code",
   "execution_count": 21,
   "metadata": {},
   "outputs": [],
   "source": [
    "physical1314.loc[(physical1314.PAD630.isnull()), 'Missing_PAD630'] = 1\n",
    "physical1516.loc[(physical1516.PAD630.isnull()), 'Missing_PAD630'] = 1"
   ]
  },
  {
   "cell_type": "code",
   "execution_count": 22,
   "metadata": {},
   "outputs": [],
   "source": [
    "physical1314.PAD630 = physical1314.PAD630.fillna(0)\n",
    "physical1516.PAD630 = physical1516.PAD630.fillna(0)"
   ]
  },
  {
   "cell_type": "code",
   "execution_count": 23,
   "metadata": {},
   "outputs": [],
   "source": [
    "physical1314.loc[(physical1314.PAD630 == 7777)|(physical1314.PAD630 == 9999), 'PAD630'] = 0\n",
    "physical1516.loc[(physical1516.PAD630 == 7777)|(physical1516.PAD630 == 9999), 'PAD630'] = 0"
   ]
  },
  {
   "cell_type": "code",
   "execution_count": 24,
   "metadata": {},
   "outputs": [],
   "source": [
    "physical1314.PAQ635 = physical1314.PAQ635.fillna(10)\n",
    "physical1516.PAQ635 = physical1516.PAQ635.fillna(10)"
   ]
  },
  {
   "cell_type": "code",
   "execution_count": 25,
   "metadata": {},
   "outputs": [],
   "source": [
    "physical1314['Missing_PAQ640'] = 0\n",
    "physical1516['Missing_PAQ640'] = 0"
   ]
  },
  {
   "cell_type": "code",
   "execution_count": 26,
   "metadata": {},
   "outputs": [],
   "source": [
    "physical1314.loc[(physical1314.PAQ640.isnull()), 'Missing_PAQ640'] = 1\n",
    "physical1516.loc[(physical1516.PAQ640.isnull()), 'Missing_PAQ640'] = 1"
   ]
  },
  {
   "cell_type": "code",
   "execution_count": 27,
   "metadata": {},
   "outputs": [],
   "source": [
    "physical1314.PAQ640 = physical1314.PAQ640.fillna(0)\n",
    "physical1516.PAQ640 = physical1516.PAQ640.fillna(0)"
   ]
  },
  {
   "cell_type": "code",
   "execution_count": 28,
   "metadata": {},
   "outputs": [],
   "source": [
    "physical1314.loc[(physical1314.PAQ640 == 77)|(physical1314.PAQ640 == 99), 'PAQ640'] = 0\n",
    "physical1516.loc[(physical1516.PAQ640 == 77)|(physical1516.PAQ640 == 99), 'PAQ640'] = 0"
   ]
  },
  {
   "cell_type": "code",
   "execution_count": 29,
   "metadata": {},
   "outputs": [],
   "source": [
    "physical1314['Missing_PAD645'] = 0\n",
    "physical1516['Missing_PAD645'] = 0"
   ]
  },
  {
   "cell_type": "code",
   "execution_count": 30,
   "metadata": {},
   "outputs": [],
   "source": [
    "physical1314.loc[(physical1314.PAD645.isnull()), 'Missing_PAD645'] = 1\n",
    "physical1516.loc[(physical1516.PAD645.isnull()), 'Missing_PAD645'] = 1"
   ]
  },
  {
   "cell_type": "code",
   "execution_count": 31,
   "metadata": {},
   "outputs": [],
   "source": [
    "physical1314.PAD645 = physical1314.PAD645.fillna(0)\n",
    "physical1516.PAD645 = physical1516.PAD645.fillna(0)"
   ]
  },
  {
   "cell_type": "code",
   "execution_count": 32,
   "metadata": {},
   "outputs": [],
   "source": [
    "physical1314.loc[(physical1314.PAD645 == 7777)|(physical1314.PAD645 == 9999), 'PAD645'] = 0\n",
    "physical1516.loc[(physical1516.PAD645 == 7777)|(physical1516.PAD645 == 9999), 'PAD645'] = 0"
   ]
  },
  {
   "cell_type": "code",
   "execution_count": 33,
   "metadata": {},
   "outputs": [],
   "source": [
    "physical1314.PAQ650 = physical1314.PAQ650.fillna(10)\n",
    "physical1516.PAQ650 = physical1516.PAQ650.fillna(10)"
   ]
  },
  {
   "cell_type": "code",
   "execution_count": 34,
   "metadata": {},
   "outputs": [],
   "source": [
    "physical1314['Missing_PAQ655'] = 0\n",
    "physical1516['Missing_PAQ655'] = 0"
   ]
  },
  {
   "cell_type": "code",
   "execution_count": 35,
   "metadata": {},
   "outputs": [],
   "source": [
    "physical1314.loc[(physical1314.PAQ655.isnull()), 'Missing_PAQ655'] = 1\n",
    "physical1516.loc[(physical1516.PAQ655.isnull()), 'Missing_PAQ655'] = 1"
   ]
  },
  {
   "cell_type": "code",
   "execution_count": 36,
   "metadata": {},
   "outputs": [],
   "source": [
    "physical1314.PAQ655 = physical1314.PAQ655.fillna(0)\n",
    "physical1516.PAQ655 = physical1516.PAQ655.fillna(0)"
   ]
  },
  {
   "cell_type": "code",
   "execution_count": 37,
   "metadata": {},
   "outputs": [],
   "source": [
    "physical1314.loc[(physical1314.PAQ655 == 77)|(physical1314.PAQ655 == 99), 'PAQ655'] = 0\n",
    "physical1516.loc[(physical1516.PAQ655 == 77)|(physical1516.PAQ655 == 99), 'PAQ655'] = 0"
   ]
  },
  {
   "cell_type": "code",
   "execution_count": 38,
   "metadata": {},
   "outputs": [],
   "source": [
    "physical1314['Missing_PAD660'] = 0\n",
    "physical1516['Missing_PAD660'] = 0"
   ]
  },
  {
   "cell_type": "code",
   "execution_count": 39,
   "metadata": {},
   "outputs": [],
   "source": [
    "physical1314.loc[(physical1314.PAD660.isnull()), 'Missing_PAD660'] = 1\n",
    "physical1516.loc[(physical1516.PAD660.isnull()), 'Missing_PAD660'] = 1"
   ]
  },
  {
   "cell_type": "code",
   "execution_count": 40,
   "metadata": {},
   "outputs": [],
   "source": [
    "physical1314.PAD660 = physical1314.PAD660.fillna(0)\n",
    "physical1516.PAD660 = physical1516.PAD660.fillna(0)"
   ]
  },
  {
   "cell_type": "code",
   "execution_count": 41,
   "metadata": {},
   "outputs": [],
   "source": [
    "physical1314.loc[(physical1314.PAD660 == 7777)|(physical1314.PAD660 == 9999), 'PAD660'] = 0\n",
    "physical1516.loc[(physical1516.PAD660 == 7777)|(physical1516.PAD660 == 9999), 'PAD660'] = 0"
   ]
  },
  {
   "cell_type": "code",
   "execution_count": 42,
   "metadata": {},
   "outputs": [],
   "source": [
    "physical1314.PAQ665 = physical1314.PAQ665.fillna(10)\n",
    "physical1516.PAQ665 = physical1516.PAQ665.fillna(10)"
   ]
  },
  {
   "cell_type": "code",
   "execution_count": 43,
   "metadata": {},
   "outputs": [],
   "source": [
    "physical1314['Missing_PAQ670'] = 0\n",
    "physical1516['Missing_PAQ670'] = 0"
   ]
  },
  {
   "cell_type": "code",
   "execution_count": 44,
   "metadata": {},
   "outputs": [],
   "source": [
    "physical1314.loc[(physical1314.PAQ670.isnull()), 'Missing_PAQ670'] = 1\n",
    "physical1516.loc[(physical1516.PAQ670.isnull()), 'Missing_PAQ670'] = 1"
   ]
  },
  {
   "cell_type": "code",
   "execution_count": 45,
   "metadata": {},
   "outputs": [],
   "source": [
    "physical1314.PAQ670 = physical1314.PAQ670.fillna(0)\n",
    "physical1516.PAQ670 = physical1516.PAQ670.fillna(0)"
   ]
  },
  {
   "cell_type": "code",
   "execution_count": 46,
   "metadata": {},
   "outputs": [],
   "source": [
    "physical1314.loc[(physical1314.PAQ670 == 77)|(physical1314.PAQ670 == 99), 'PAQ670'] = 0\n",
    "physical1516.loc[(physical1516.PAQ670 == 77)|(physical1516.PAQ670 == 99), 'PAQ670'] = 0"
   ]
  },
  {
   "cell_type": "code",
   "execution_count": 47,
   "metadata": {},
   "outputs": [],
   "source": [
    "physical1314['Missing_PAD675'] = 0\n",
    "physical1516['Missing_PAD675'] = 0"
   ]
  },
  {
   "cell_type": "code",
   "execution_count": 48,
   "metadata": {},
   "outputs": [],
   "source": [
    "physical1314.loc[(physical1314.PAD675.isnull()), 'Missing_PAD675'] = 1\n",
    "physical1516.loc[(physical1516.PAD675.isnull()), 'Missing_PAD675'] = 1"
   ]
  },
  {
   "cell_type": "code",
   "execution_count": 49,
   "metadata": {},
   "outputs": [],
   "source": [
    "physical1314.PAD675 = physical1314.PAD675.fillna(0)\n",
    "physical1516.PAD675 = physical1516.PAD675.fillna(0)"
   ]
  },
  {
   "cell_type": "code",
   "execution_count": 50,
   "metadata": {},
   "outputs": [],
   "source": [
    "physical1314.loc[(physical1314.PAD675 == 7777)|(physical1314.PAD675 == 9999), 'PAD675'] = 0\n",
    "physical1516.loc[(physical1516.PAD675 == 7777)|(physical1516.PAD675 == 9999), 'PAD675'] = 0"
   ]
  },
  {
   "cell_type": "code",
   "execution_count": 51,
   "metadata": {},
   "outputs": [],
   "source": [
    "physical1314['Missing_PAD680'] = 0\n",
    "physical1516['Missing_PAD680'] = 0"
   ]
  },
  {
   "cell_type": "code",
   "execution_count": 52,
   "metadata": {},
   "outputs": [],
   "source": [
    "physical1314.loc[(physical1314.PAD680.isnull()), 'Missing_PAD680'] = 1\n",
    "physical1516.loc[(physical1516.PAD680.isnull()), 'Missing_PAD680'] = 1"
   ]
  },
  {
   "cell_type": "code",
   "execution_count": 53,
   "metadata": {},
   "outputs": [],
   "source": [
    "physical1314.PAD680 = physical1314.PAD680.fillna(0)\n",
    "physical1516.PAD680 = physical1516.PAD680.fillna(0)"
   ]
  },
  {
   "cell_type": "code",
   "execution_count": 54,
   "metadata": {},
   "outputs": [],
   "source": [
    "physical1314.loc[(physical1314.PAD680 == 7777)|(physical1314.PAD680 == 9999), 'PAD680'] = 0\n",
    "physical1516.loc[(physical1516.PAD680 == 7777)|(physical1516.PAD680 == 9999), 'PAD680'] = 0"
   ]
  },
  {
   "cell_type": "code",
   "execution_count": 55,
   "metadata": {},
   "outputs": [],
   "source": [
    "physical1314.PAQ706 = physical1314.PAQ706.fillna(100)\n",
    "physical1516.PAQ706 = physical1516.PAQ706.fillna(100)"
   ]
  },
  {
   "cell_type": "code",
   "execution_count": 56,
   "metadata": {},
   "outputs": [],
   "source": [
    "physical1314.PAQ710 = physical1314.PAQ710.fillna(100)\n",
    "physical1516.PAQ710 = physical1516.PAQ710.fillna(100)"
   ]
  },
  {
   "cell_type": "code",
   "execution_count": 57,
   "metadata": {},
   "outputs": [],
   "source": [
    "physical1314.PAQ715 = physical1314.PAQ715.fillna(100)\n",
    "physical1516.PAQ715 = physical1516.PAQ715.fillna(100)"
   ]
  },
  {
   "cell_type": "code",
   "execution_count": 58,
   "metadata": {},
   "outputs": [],
   "source": [
    "physical1314.PAQ722 = physical1314.PAQ722.fillna(10)\n",
    "physical1516.PAQ722 = physical1516.PAQ722.fillna(10)"
   ]
  },
  {
   "cell_type": "code",
   "execution_count": 59,
   "metadata": {},
   "outputs": [],
   "source": [
    "physical1314['ActivityType'] = 0\n",
    "physical1516['ActivityType'] = 0"
   ]
  },
  {
   "cell_type": "code",
   "execution_count": 60,
   "metadata": {},
   "outputs": [],
   "source": [
    "physical1314.loc[(physical1314.PAQ724A == 1), 'ActivityType'] = 1\n",
    "physical1516.loc[(physical1516.PAQ724A == 1), 'ActivityType'] = 1"
   ]
  },
  {
   "cell_type": "code",
   "execution_count": 61,
   "metadata": {},
   "outputs": [],
   "source": [
    "physical1314.loc[(physical1314.ActivityType != 0)&(physical1314.PAQ724B == 2), 'ActivityType'] = 100\n",
    "physical1516.loc[(physical1516.ActivityType != 0)&(physical1516.PAQ724B == 2), 'ActivityType'] = 100"
   ]
  },
  {
   "cell_type": "code",
   "execution_count": 62,
   "metadata": {},
   "outputs": [],
   "source": [
    "physical1314.loc[(physical1314.ActivityType == 0)&(physical1314.PAQ724B == 2), 'ActivityType'] = 2\n",
    "physical1516.loc[(physical1516.ActivityType == 0)&(physical1516.PAQ724B == 2), 'ActivityType'] = 2"
   ]
  },
  {
   "cell_type": "code",
   "execution_count": 63,
   "metadata": {},
   "outputs": [],
   "source": [
    "physical1314.loc[(physical1314.ActivityType != 0)&(physical1314.PAQ724C == 3), 'ActivityType'] = 100\n",
    "physical1516.loc[(physical1516.ActivityType != 0)&(physical1516.PAQ724C == 3), 'ActivityType'] = 100"
   ]
  },
  {
   "cell_type": "code",
   "execution_count": 64,
   "metadata": {},
   "outputs": [],
   "source": [
    "physical1314.loc[(physical1314.ActivityType == 0)&(physical1314.PAQ724C == 3), 'ActivityType'] = 3\n",
    "physical1516.loc[(physical1516.ActivityType == 0)&(physical1516.PAQ724C == 3), 'ActivityType'] = 3"
   ]
  },
  {
   "cell_type": "code",
   "execution_count": 65,
   "metadata": {},
   "outputs": [],
   "source": [
    "physical1314.loc[(physical1314.ActivityType != 0)&(physical1314.PAQ724D == 4), 'ActivityType'] = 100\n",
    "physical1516.loc[(physical1516.ActivityType != 0)&(physical1516.PAQ724D == 4), 'ActivityType'] = 100"
   ]
  },
  {
   "cell_type": "code",
   "execution_count": 66,
   "metadata": {},
   "outputs": [],
   "source": [
    "physical1314.loc[(physical1314.ActivityType == 0)&(physical1314.PAQ724D == 4), 'ActivityType'] = 4\n",
    "physical1516.loc[(physical1516.ActivityType == 0)&(physical1516.PAQ724D == 4), 'ActivityType'] = 4"
   ]
  },
  {
   "cell_type": "code",
   "execution_count": 67,
   "metadata": {},
   "outputs": [],
   "source": [
    "physical1314.loc[(physical1314.ActivityType != 0)&(physical1314.PAQ724E == 5), 'ActivityType'] = 100\n",
    "physical1516.loc[(physical1516.ActivityType != 0)&(physical1516.PAQ724E == 5), 'ActivityType'] = 100"
   ]
  },
  {
   "cell_type": "code",
   "execution_count": 68,
   "metadata": {},
   "outputs": [],
   "source": [
    "physical1314.loc[(physical1314.ActivityType == 0)&(physical1314.PAQ724E == 5), 'ActivityType'] = 5\n",
    "physical1516.loc[(physical1516.ActivityType == 0)&(physical1516.PAQ724E == 5), 'ActivityType'] = 5"
   ]
  },
  {
   "cell_type": "code",
   "execution_count": 69,
   "metadata": {},
   "outputs": [],
   "source": [
    "physical1314.loc[(physical1314.ActivityType != 0)&(physical1314.PAQ724F == 6), 'ActivityType'] = 100\n",
    "physical1516.loc[(physical1516.ActivityType != 0)&(physical1516.PAQ724F == 6), 'ActivityType'] = 100"
   ]
  },
  {
   "cell_type": "code",
   "execution_count": 70,
   "metadata": {},
   "outputs": [],
   "source": [
    "physical1314.loc[(physical1314.ActivityType == 0)&(physical1314.PAQ724F == 6), 'ActivityType'] = 6\n",
    "physical1516.loc[(physical1516.ActivityType == 0)&(physical1516.PAQ724F == 6), 'ActivityType'] = 6"
   ]
  },
  {
   "cell_type": "code",
   "execution_count": 71,
   "metadata": {},
   "outputs": [],
   "source": [
    "physical1314.loc[(physical1314.ActivityType != 0)&(physical1314.PAQ724G == 7), 'ActivityType'] = 100\n",
    "physical1516.loc[(physical1516.ActivityType != 0)&(physical1516.PAQ724G == 7), 'ActivityType'] = 100"
   ]
  },
  {
   "cell_type": "code",
   "execution_count": 72,
   "metadata": {},
   "outputs": [],
   "source": [
    "physical1314.loc[(physical1314.ActivityType == 0)&(physical1314.PAQ724G == 7), 'ActivityType'] = 7\n",
    "physical1516.loc[(physical1516.ActivityType == 0)&(physical1516.PAQ724G == 7), 'ActivityType'] = 7"
   ]
  },
  {
   "cell_type": "code",
   "execution_count": 73,
   "metadata": {},
   "outputs": [],
   "source": [
    "physical1314.loc[(physical1314.ActivityType != 0)&(physical1314.PAQ724H == 8), 'ActivityType'] = 100\n",
    "physical1516.loc[(physical1516.ActivityType != 0)&(physical1516.PAQ724H == 8), 'ActivityType'] = 100"
   ]
  },
  {
   "cell_type": "code",
   "execution_count": 74,
   "metadata": {},
   "outputs": [],
   "source": [
    "physical1314.loc[(physical1314.ActivityType == 0)&(physical1314.PAQ724H == 8), 'ActivityType'] = 8\n",
    "physical1516.loc[(physical1516.ActivityType == 0)&(physical1516.PAQ724H == 8), 'ActivityType'] = 8"
   ]
  },
  {
   "cell_type": "code",
   "execution_count": 75,
   "metadata": {},
   "outputs": [],
   "source": [
    "physical1314.loc[(physical1314.ActivityType != 0)&(physical1314.PAQ724I == 9), 'ActivityType'] = 100\n",
    "physical1516.loc[(physical1516.ActivityType != 0)&(physical1516.PAQ724I == 9), 'ActivityType'] = 100"
   ]
  },
  {
   "cell_type": "code",
   "execution_count": 76,
   "metadata": {},
   "outputs": [],
   "source": [
    "physical1314.loc[(physical1314.ActivityType == 0)&(physical1314.PAQ724I == 9), 'ActivityType'] = 9\n",
    "physical1516.loc[(physical1516.ActivityType == 0)&(physical1516.PAQ724I == 9), 'ActivityType'] = 9"
   ]
  },
  {
   "cell_type": "code",
   "execution_count": 77,
   "metadata": {},
   "outputs": [],
   "source": [
    "physical1314.loc[(physical1314.ActivityType != 0)&(physical1314.PAQ724J == 10), 'ActivityType'] = 100\n",
    "physical1516.loc[(physical1516.ActivityType != 0)&(physical1516.PAQ724J == 10), 'ActivityType'] = 100"
   ]
  },
  {
   "cell_type": "code",
   "execution_count": 78,
   "metadata": {},
   "outputs": [],
   "source": [
    "physical1314.loc[(physical1314.ActivityType == 0)&(physical1314.PAQ724J == 10), 'ActivityType'] = 10\n",
    "physical1516.loc[(physical1516.ActivityType == 0)&(physical1516.PAQ724J == 10), 'ActivityType'] = 10"
   ]
  },
  {
   "cell_type": "code",
   "execution_count": 79,
   "metadata": {},
   "outputs": [],
   "source": [
    "physical1314.loc[(physical1314.ActivityType != 0)&(physical1314.PAQ724K == 11), 'ActivityType'] = 100\n",
    "physical1516.loc[(physical1516.ActivityType != 0)&(physical1516.PAQ724K == 11), 'ActivityType'] = 100"
   ]
  },
  {
   "cell_type": "code",
   "execution_count": 80,
   "metadata": {},
   "outputs": [],
   "source": [
    "physical1314.loc[(physical1314.ActivityType == 0)&(physical1314.PAQ724K == 11), 'ActivityType'] = 11\n",
    "physical1516.loc[(physical1516.ActivityType == 0)&(physical1516.PAQ724K == 11), 'ActivityType'] = 11"
   ]
  },
  {
   "cell_type": "code",
   "execution_count": 81,
   "metadata": {},
   "outputs": [],
   "source": [
    "physical1314.loc[(physical1314.ActivityType != 0)&(physical1314.PAQ724L == 12), 'ActivityType'] = 100\n",
    "physical1516.loc[(physical1516.ActivityType != 0)&(physical1516.PAQ724L == 12), 'ActivityType'] = 100"
   ]
  },
  {
   "cell_type": "code",
   "execution_count": 82,
   "metadata": {},
   "outputs": [],
   "source": [
    "physical1314.loc[(physical1314.ActivityType == 0)&(physical1314.PAQ724L == 12), 'ActivityType'] = 12\n",
    "physical1516.loc[(physical1516.ActivityType == 0)&(physical1516.PAQ724L == 12), 'ActivityType'] = 12"
   ]
  },
  {
   "cell_type": "code",
   "execution_count": 83,
   "metadata": {},
   "outputs": [],
   "source": [
    "physical1314.loc[(physical1314.ActivityType != 0)&(physical1314.PAQ724M == 13), 'ActivityType'] = 100\n",
    "physical1516.loc[(physical1516.ActivityType != 0)&(physical1516.PAQ724M == 13), 'ActivityType'] = 100"
   ]
  },
  {
   "cell_type": "code",
   "execution_count": 84,
   "metadata": {},
   "outputs": [],
   "source": [
    "physical1314.loc[(physical1314.ActivityType == 0)&(physical1314.PAQ724M == 13), 'ActivityType'] = 13\n",
    "physical1516.loc[(physical1516.ActivityType == 0)&(physical1516.PAQ724M == 13), 'ActivityType'] = 13"
   ]
  },
  {
   "cell_type": "code",
   "execution_count": 85,
   "metadata": {},
   "outputs": [],
   "source": [
    "physical1314.loc[(physical1314.ActivityType != 0)&(physical1314.PAQ724N == 14), 'ActivityType'] = 100\n",
    "physical1516.loc[(physical1516.ActivityType != 0)&(physical1516.PAQ724N == 14), 'ActivityType'] = 100"
   ]
  },
  {
   "cell_type": "code",
   "execution_count": 86,
   "metadata": {},
   "outputs": [],
   "source": [
    "physical1314.loc[(physical1314.ActivityType == 0)&(physical1314.PAQ724N == 14), 'ActivityType'] = 14\n",
    "physical1516.loc[(physical1516.ActivityType == 0)&(physical1516.PAQ724N == 14), 'ActivityType'] = 14"
   ]
  },
  {
   "cell_type": "code",
   "execution_count": 87,
   "metadata": {},
   "outputs": [],
   "source": [
    "physical1314.loc[(physical1314.ActivityType != 0)&(physical1314.PAQ724O == 15), 'ActivityType'] = 100\n",
    "physical1516.loc[(physical1516.ActivityType != 0)&(physical1516.PAQ724O == 15), 'ActivityType'] = 100"
   ]
  },
  {
   "cell_type": "code",
   "execution_count": 88,
   "metadata": {},
   "outputs": [],
   "source": [
    "physical1314.loc[(physical1314.ActivityType == 0)&(physical1314.PAQ724O == 15), 'ActivityType'] = 15\n",
    "physical1516.loc[(physical1516.ActivityType == 0)&(physical1516.PAQ724O == 15), 'ActivityType'] = 15"
   ]
  },
  {
   "cell_type": "code",
   "execution_count": 89,
   "metadata": {},
   "outputs": [],
   "source": [
    "physical1314.loc[(physical1314.ActivityType != 0)&(physical1314.PAQ724P == 16), 'ActivityType'] = 100\n",
    "physical1516.loc[(physical1516.ActivityType != 0)&(physical1516.PAQ724P == 16), 'ActivityType'] = 100"
   ]
  },
  {
   "cell_type": "code",
   "execution_count": 90,
   "metadata": {},
   "outputs": [],
   "source": [
    "physical1314.loc[(physical1314.ActivityType == 0)&(physical1314.PAQ724P == 16), 'ActivityType'] = 16\n",
    "physical1516.loc[(physical1516.ActivityType == 0)&(physical1516.PAQ724P == 16), 'ActivityType'] = 16"
   ]
  },
  {
   "cell_type": "code",
   "execution_count": 91,
   "metadata": {},
   "outputs": [],
   "source": [
    "physical1314.loc[(physical1314.ActivityType != 0)&(physical1314.PAQ724Q == 17), 'ActivityType'] = 100\n",
    "physical1516.loc[(physical1516.ActivityType != 0)&(physical1516.PAQ724Q == 17), 'ActivityType'] = 100"
   ]
  },
  {
   "cell_type": "code",
   "execution_count": 92,
   "metadata": {},
   "outputs": [],
   "source": [
    "physical1314.loc[(physical1314.ActivityType == 0)&(physical1314.PAQ724Q == 17), 'ActivityType'] = 17\n",
    "physical1516.loc[(physical1516.ActivityType == 0)&(physical1516.PAQ724Q == 17), 'ActivityType'] = 17"
   ]
  },
  {
   "cell_type": "code",
   "execution_count": 93,
   "metadata": {},
   "outputs": [],
   "source": [
    "physical1314.loc[(physical1314.ActivityType != 0)&(physical1314.PAQ724R == 18), 'ActivityType'] = 100\n",
    "physical1516.loc[(physical1516.ActivityType != 0)&(physical1516.PAQ724R == 18), 'ActivityType'] = 100"
   ]
  },
  {
   "cell_type": "code",
   "execution_count": 94,
   "metadata": {},
   "outputs": [],
   "source": [
    "physical1314.loc[(physical1314.ActivityType == 0)&(physical1314.PAQ724R == 18), 'ActivityType'] = 18\n",
    "physical1516.loc[(physical1516.ActivityType == 0)&(physical1516.PAQ724R == 18), 'ActivityType'] = 18"
   ]
  },
  {
   "cell_type": "code",
   "execution_count": 95,
   "metadata": {},
   "outputs": [],
   "source": [
    "physical1314.loc[(physical1314.ActivityType != 0)&(physical1314.PAQ724S == 19), 'ActivityType'] = 100\n",
    "physical1516.loc[(physical1516.ActivityType != 0)&(physical1516.PAQ724S == 19), 'ActivityType'] = 100"
   ]
  },
  {
   "cell_type": "code",
   "execution_count": 96,
   "metadata": {},
   "outputs": [],
   "source": [
    "physical1314.loc[(physical1314.ActivityType == 0)&(physical1314.PAQ724S == 19), 'ActivityType'] = 19\n",
    "physical1516.loc[(physical1516.ActivityType == 0)&(physical1516.PAQ724S == 19), 'ActivityType'] = 19"
   ]
  },
  {
   "cell_type": "code",
   "execution_count": 97,
   "metadata": {},
   "outputs": [],
   "source": [
    "physical1314.loc[(physical1314.ActivityType != 0)&(physical1314.PAQ724T == 20), 'ActivityType'] = 100\n",
    "physical1516.loc[(physical1516.ActivityType != 0)&(physical1516.PAQ724T == 20), 'ActivityType'] = 100"
   ]
  },
  {
   "cell_type": "code",
   "execution_count": 98,
   "metadata": {},
   "outputs": [],
   "source": [
    "physical1314.loc[(physical1314.ActivityType == 0)&(physical1314.PAQ724T == 20), 'ActivityType'] = 20\n",
    "physical1516.loc[(physical1516.ActivityType == 0)&(physical1516.PAQ724T == 20), 'ActivityType'] = 20"
   ]
  },
  {
   "cell_type": "code",
   "execution_count": 99,
   "metadata": {},
   "outputs": [],
   "source": [
    "physical1314.loc[(physical1314.ActivityType != 0)&(physical1314.PAQ724U == 21), 'ActivityType'] = 100\n",
    "physical1516.loc[(physical1516.ActivityType != 0)&(physical1516.PAQ724U == 21), 'ActivityType'] = 100"
   ]
  },
  {
   "cell_type": "code",
   "execution_count": 100,
   "metadata": {},
   "outputs": [],
   "source": [
    "physical1314.loc[(physical1314.ActivityType == 0)&(physical1314.PAQ724U == 21), 'ActivityType'] = 21\n",
    "physical1516.loc[(physical1516.ActivityType == 0)&(physical1516.PAQ724U == 21), 'ActivityType'] = 21"
   ]
  },
  {
   "cell_type": "code",
   "execution_count": 101,
   "metadata": {},
   "outputs": [],
   "source": [
    "physical1314.loc[(physical1314.ActivityType != 0)&(physical1314.PAQ724V == 22), 'ActivityType'] = 100\n",
    "physical1516.loc[(physical1516.ActivityType != 0)&(physical1516.PAQ724V == 22), 'ActivityType'] = 100"
   ]
  },
  {
   "cell_type": "code",
   "execution_count": 102,
   "metadata": {},
   "outputs": [],
   "source": [
    "physical1314.loc[(physical1314.ActivityType == 0)&(physical1314.PAQ724V == 22), 'ActivityType'] = 22\n",
    "physical1516.loc[(physical1516.ActivityType == 0)&(physical1516.PAQ724V == 22), 'ActivityType'] = 22"
   ]
  },
  {
   "cell_type": "code",
   "execution_count": 103,
   "metadata": {},
   "outputs": [],
   "source": [
    "physical1314.loc[(physical1314.ActivityType != 0)&(physical1314.PAQ724W == 23), 'ActivityType'] = 100\n",
    "physical1516.loc[(physical1516.ActivityType != 0)&(physical1516.PAQ724W == 23), 'ActivityType'] = 100"
   ]
  },
  {
   "cell_type": "code",
   "execution_count": 104,
   "metadata": {},
   "outputs": [],
   "source": [
    "physical1314.loc[(physical1314.ActivityType == 0)&(physical1314.PAQ724W == 23), 'ActivityType'] = 23\n",
    "physical1516.loc[(physical1516.ActivityType == 0)&(physical1516.PAQ724W == 23), 'ActivityType'] = 23"
   ]
  },
  {
   "cell_type": "code",
   "execution_count": 105,
   "metadata": {},
   "outputs": [],
   "source": [
    "physical1314.loc[(physical1314.ActivityType != 0)&(physical1314.PAQ724X == 24), 'ActivityType'] = 100\n",
    "physical1516.loc[(physical1516.ActivityType != 0)&(physical1516.PAQ724X == 24), 'ActivityType'] = 100"
   ]
  },
  {
   "cell_type": "code",
   "execution_count": 106,
   "metadata": {},
   "outputs": [],
   "source": [
    "physical1314.loc[(physical1314.ActivityType == 0)&(physical1314.PAQ724X == 24), 'ActivityType'] = 24\n",
    "physical1516.loc[(physical1516.ActivityType == 0)&(physical1516.PAQ724X == 24), 'ActivityType'] = 24"
   ]
  },
  {
   "cell_type": "code",
   "execution_count": 107,
   "metadata": {},
   "outputs": [],
   "source": [
    "physical1314.loc[(physical1314.ActivityType != 0)&(physical1314.PAQ724Y == 25), 'ActivityType'] = 100\n",
    "physical1516.loc[(physical1516.ActivityType != 0)&(physical1516.PAQ724Y == 25), 'ActivityType'] = 100"
   ]
  },
  {
   "cell_type": "code",
   "execution_count": 108,
   "metadata": {},
   "outputs": [],
   "source": [
    "physical1314.loc[(physical1314.ActivityType == 0)&(physical1314.PAQ724Y == 25), 'ActivityType'] = 25\n",
    "physical1516.loc[(physical1516.ActivityType == 0)&(physical1516.PAQ724Y == 25), 'ActivityType'] = 25"
   ]
  },
  {
   "cell_type": "code",
   "execution_count": 109,
   "metadata": {},
   "outputs": [],
   "source": [
    "physical1314.loc[(physical1314.ActivityType != 0)&(physical1314.PAQ724Z == 26), 'ActivityType'] = 100\n",
    "physical1516.loc[(physical1516.ActivityType != 0)&(physical1516.PAQ724Z == 26), 'ActivityType'] = 100"
   ]
  },
  {
   "cell_type": "code",
   "execution_count": 110,
   "metadata": {},
   "outputs": [],
   "source": [
    "physical1314.loc[(physical1314.ActivityType == 0)&(physical1314.PAQ724Z == 26), 'ActivityType'] = 26\n",
    "physical1516.loc[(physical1516.ActivityType == 0)&(physical1516.PAQ724Z == 26), 'ActivityType'] = 26"
   ]
  },
  {
   "cell_type": "code",
   "execution_count": 111,
   "metadata": {},
   "outputs": [],
   "source": [
    "physical1314.loc[(physical1314.ActivityType != 0)&(physical1314.PAQ724AA == 27), 'ActivityType'] = 100\n",
    "physical1516.loc[(physical1516.ActivityType != 0)&(physical1516.PAQ724AA == 27), 'ActivityType'] = 100"
   ]
  },
  {
   "cell_type": "code",
   "execution_count": 112,
   "metadata": {},
   "outputs": [],
   "source": [
    "physical1314.loc[(physical1314.ActivityType == 0)&(physical1314.PAQ724AA == 27), 'ActivityType'] = 27\n",
    "physical1516.loc[(physical1516.ActivityType == 0)&(physical1516.PAQ724AA == 27), 'ActivityType'] = 27"
   ]
  },
  {
   "cell_type": "code",
   "execution_count": 113,
   "metadata": {},
   "outputs": [],
   "source": [
    "physical1314.loc[(physical1314.ActivityType != 0)&(physical1314.PAQ724AB == 28), 'ActivityType'] = 100\n",
    "physical1516.loc[(physical1516.ActivityType != 0)&(physical1516.PAQ724AB == 28), 'ActivityType'] = 100"
   ]
  },
  {
   "cell_type": "code",
   "execution_count": 114,
   "metadata": {},
   "outputs": [],
   "source": [
    "physical1314.loc[(physical1314.ActivityType == 0)&(physical1314.PAQ724AB == 28), 'ActivityType'] = 28\n",
    "physical1516.loc[(physical1516.ActivityType == 0)&(physical1516.PAQ724AB == 28), 'ActivityType'] = 28"
   ]
  },
  {
   "cell_type": "code",
   "execution_count": 115,
   "metadata": {},
   "outputs": [],
   "source": [
    "physical1314.loc[(physical1314.ActivityType != 0)&(physical1314.PAQ724AC == 29), 'ActivityType'] = 100\n",
    "physical1516.loc[(physical1516.ActivityType != 0)&(physical1516.PAQ724AC == 29), 'ActivityType'] = 100"
   ]
  },
  {
   "cell_type": "code",
   "execution_count": 116,
   "metadata": {},
   "outputs": [],
   "source": [
    "physical1314.loc[(physical1314.ActivityType == 0)&(physical1314.PAQ724AC == 29), 'ActivityType'] = 29\n",
    "physical1516.loc[(physical1516.ActivityType == 0)&(physical1516.PAQ724AC == 29), 'ActivityType'] = 29"
   ]
  },
  {
   "cell_type": "code",
   "execution_count": 117,
   "metadata": {},
   "outputs": [],
   "source": [
    "physical1314.loc[(physical1314.ActivityType != 0)&(physical1314.PAQ724AD == 30), 'ActivityType'] = 100\n",
    "physical1516.loc[(physical1516.ActivityType != 0)&(physical1516.PAQ724AD == 30), 'ActivityType'] = 100"
   ]
  },
  {
   "cell_type": "code",
   "execution_count": 118,
   "metadata": {},
   "outputs": [],
   "source": [
    "physical1314.loc[(physical1314.ActivityType == 0)&(physical1314.PAQ724AD == 30), 'ActivityType'] = 30\n",
    "physical1516.loc[(physical1516.ActivityType == 0)&(physical1516.PAQ724AD == 30), 'ActivityType'] = 30"
   ]
  },
  {
   "cell_type": "code",
   "execution_count": 119,
   "metadata": {},
   "outputs": [],
   "source": [
    "physical1314.loc[(physical1314.ActivityType != 0)&(physical1314.PAQ724AE == 31), 'ActivityType'] = 100\n",
    "physical1516.loc[(physical1516.ActivityType != 0)&(physical1516.PAQ724AE == 31), 'ActivityType'] = 100"
   ]
  },
  {
   "cell_type": "code",
   "execution_count": 120,
   "metadata": {},
   "outputs": [],
   "source": [
    "physical1314.loc[(physical1314.ActivityType == 0)&(physical1314.PAQ724AE == 31), 'ActivityType'] = 31\n",
    "physical1516.loc[(physical1516.ActivityType == 0)&(physical1516.PAQ724AE == 31), 'ActivityType'] = 31"
   ]
  },
  {
   "cell_type": "code",
   "execution_count": 121,
   "metadata": {},
   "outputs": [],
   "source": [
    "physical1314.loc[(physical1314.ActivityType != 0)&(physical1314.PAQ724AF == 32), 'ActivityType'] = 100\n",
    "physical1516.loc[(physical1516.ActivityType != 0)&(physical1516.PAQ724AF == 32), 'ActivityType'] = 100"
   ]
  },
  {
   "cell_type": "code",
   "execution_count": 122,
   "metadata": {},
   "outputs": [],
   "source": [
    "physical1314.loc[(physical1314.ActivityType == 0)&(physical1314.PAQ724AF == 32), 'ActivityType'] = 32\n",
    "physical1516.loc[(physical1516.ActivityType == 0)&(physical1516.PAQ724AF == 32), 'ActivityType'] = 32"
   ]
  },
  {
   "cell_type": "code",
   "execution_count": 123,
   "metadata": {},
   "outputs": [],
   "source": [
    "physical1314.loc[(physical1314.ActivityType != 0)&(physical1314.PAQ724CM == 91), 'ActivityType'] = 100\n",
    "physical1516.loc[(physical1516.ActivityType != 0)&(physical1516.PAQ724CM == 91), 'ActivityType'] = 100"
   ]
  },
  {
   "cell_type": "code",
   "execution_count": 124,
   "metadata": {},
   "outputs": [],
   "source": [
    "physical1314.loc[(physical1314.ActivityType == 0)&(physical1314.PAQ724CM == 91), 'ActivityType'] = 91\n",
    "physical1516.loc[(physical1516.ActivityType == 0)&(physical1516.PAQ724CM == 91), 'ActivityType'] = 91"
   ]
  },
  {
   "cell_type": "code",
   "execution_count": 126,
   "metadata": {},
   "outputs": [
    {
     "data": {
      "text/plain": [
       "0         0\n",
       "1         0\n",
       "2         0\n",
       "3       100\n",
       "4         0\n",
       "5         0\n",
       "6         0\n",
       "7         0\n",
       "8         0\n",
       "9         0\n",
       "10        0\n",
       "11      100\n",
       "12        0\n",
       "13      100\n",
       "14      100\n",
       "15        0\n",
       "16        0\n",
       "17        0\n",
       "18        0\n",
       "19      100\n",
       "20        0\n",
       "21        0\n",
       "22        0\n",
       "23      100\n",
       "24       19\n",
       "25        0\n",
       "26        0\n",
       "27        3\n",
       "28      100\n",
       "29        0\n",
       "       ... \n",
       "9454      0\n",
       "9455      0\n",
       "9456      0\n",
       "9457     16\n",
       "9458      0\n",
       "9459    100\n",
       "9460      0\n",
       "9461      0\n",
       "9462      0\n",
       "9463      0\n",
       "9464      0\n",
       "9465      0\n",
       "9466      0\n",
       "9467      0\n",
       "9468      0\n",
       "9469      0\n",
       "9470      0\n",
       "9471      0\n",
       "9472    100\n",
       "9473      0\n",
       "9474      0\n",
       "9475      0\n",
       "9476      0\n",
       "9477    100\n",
       "9478      0\n",
       "9479      0\n",
       "9480      0\n",
       "9481      0\n",
       "9482    100\n",
       "9483    100\n",
       "Name: ActivityType, Length: 9484, dtype: int64"
      ]
     },
     "execution_count": 126,
     "metadata": {},
     "output_type": "execute_result"
    }
   ],
   "source": [
    "physical1314.ActivityType"
   ]
  },
  {
   "cell_type": "code",
   "execution_count": 127,
   "metadata": {},
   "outputs": [],
   "source": [
    "physical1314.PAQ731 = physical1314.PAQ731.fillna(100)\n",
    "physical1516.PAQ731 = physical1516.PAQ731.fillna(100)"
   ]
  },
  {
   "cell_type": "code",
   "execution_count": 128,
   "metadata": {},
   "outputs": [],
   "source": [
    "physical1314['Missing_PAD733'] = 0\n",
    "physical1516['Missing_PAD733'] = 0"
   ]
  },
  {
   "cell_type": "code",
   "execution_count": 129,
   "metadata": {},
   "outputs": [],
   "source": [
    "physical1314.loc[(physical1314.PAD733.isnull()), 'Missing_PAD733'] = 1\n",
    "physical1516.loc[(physical1516.PAD733.isnull()), 'Missing_PAD733'] = 1"
   ]
  },
  {
   "cell_type": "code",
   "execution_count": 130,
   "metadata": {},
   "outputs": [],
   "source": [
    "physical1314.PAD733 = physical1314.PAD733.fillna(0)\n",
    "physical1516.PAD733 = physical1516.PAD733.fillna(0)"
   ]
  },
  {
   "cell_type": "code",
   "execution_count": 131,
   "metadata": {},
   "outputs": [],
   "source": [
    "physical1314.loc[(physical1314.PAD733 == 7777)|(physical1314.PAD733 == 9999), 'PAD733'] = 0\n",
    "physical1516.loc[(physical1516.PAD733 == 7777)|(physical1516.PAD733 == 9999), 'PAD733'] = 0"
   ]
  },
  {
   "cell_type": "code",
   "execution_count": 132,
   "metadata": {},
   "outputs": [
    {
     "data": {
      "text/plain": [
       "SEQN              0\n",
       "PAQ605            0\n",
       "PAQ610            0\n",
       "PAD615            0\n",
       "PAQ620            0\n",
       "PAQ625            0\n",
       "PAD630            0\n",
       "PAQ635            0\n",
       "PAQ640            0\n",
       "PAD645            0\n",
       "PAQ650            0\n",
       "PAQ655            0\n",
       "PAD660            0\n",
       "PAQ665            0\n",
       "PAQ670            0\n",
       "PAD675            0\n",
       "PAD680            0\n",
       "PAQ706            0\n",
       "PAQ710            0\n",
       "PAQ715            0\n",
       "PAQ722            0\n",
       "PAQ724A           0\n",
       "PAQ724B           0\n",
       "PAQ724C           0\n",
       "PAQ724D           0\n",
       "PAQ724E           0\n",
       "PAQ724F           0\n",
       "PAQ724G           0\n",
       "PAQ724H           0\n",
       "PAQ724I           0\n",
       "                 ..\n",
       "PAQ724S           0\n",
       "PAQ724T           0\n",
       "PAQ724U           0\n",
       "PAQ724V           0\n",
       "PAQ724W           0\n",
       "PAQ724X           0\n",
       "PAQ724Y           0\n",
       "PAQ724Z           0\n",
       "PAQ724AA          0\n",
       "PAQ724AB          0\n",
       "PAQ724AC          0\n",
       "PAQ724AD          0\n",
       "PAQ724AE          0\n",
       "PAQ724AF          0\n",
       "PAQ724CM          0\n",
       "PAQ731            0\n",
       "PAD733            0\n",
       "Missing_PAQ610    0\n",
       "Missing_PAD615    0\n",
       "Missing_PAQ625    0\n",
       "Missing_PAD630    0\n",
       "Missing_PAQ640    0\n",
       "Missing_PAD645    0\n",
       "Missing_PAQ655    0\n",
       "Missing_PAD660    0\n",
       "Missing_PAQ670    0\n",
       "Missing_PAD675    0\n",
       "Missing_PAD680    0\n",
       "ActivityType      0\n",
       "Missing_PAD733    0\n",
       "Length: 69, dtype: int64"
      ]
     },
     "execution_count": 132,
     "metadata": {},
     "output_type": "execute_result"
    }
   ],
   "source": [
    "physical1314.isnull().sum()"
   ]
  },
  {
   "cell_type": "code",
   "execution_count": 133,
   "metadata": {},
   "outputs": [],
   "source": [
    "physical1314.to_csv(r'/Users/aimeechen/Desktop/Berkeley/capstone/capstone/physical activity/1314/PhysicalActivity1314.csv', index=False)"
   ]
  },
  {
   "cell_type": "code",
   "execution_count": null,
   "metadata": {},
   "outputs": [],
   "source": [
    "physical1516.to_csv(r'/Users/aimeechen/Desktop/Berkeley/capstone/capstone/physical activity/1516/PhysicalActivity1516.csv', index=False)"
   ]
  }
 ],
 "metadata": {
  "kernelspec": {
   "display_name": "Python 3",
   "language": "python",
   "name": "python3"
  },
  "language_info": {
   "codemirror_mode": {
    "name": "ipython",
    "version": 3
   },
   "file_extension": ".py",
   "mimetype": "text/x-python",
   "name": "python",
   "nbconvert_exporter": "python",
   "pygments_lexer": "ipython3",
   "version": "3.7.1"
  }
 },
 "nbformat": 4,
 "nbformat_minor": 2
}
