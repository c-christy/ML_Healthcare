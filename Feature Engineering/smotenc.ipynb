{
 "cells": [
  {
   "cell_type": "code",
   "execution_count": 7,
   "metadata": {},
   "outputs": [
    {
     "data": {
      "text/html": [
       "<div>\n",
       "<style scoped>\n",
       "    .dataframe tbody tr th:only-of-type {\n",
       "        vertical-align: middle;\n",
       "    }\n",
       "\n",
       "    .dataframe tbody tr th {\n",
       "        vertical-align: top;\n",
       "    }\n",
       "\n",
       "    .dataframe thead th {\n",
       "        text-align: right;\n",
       "    }\n",
       "</style>\n",
       "<table border=\"1\" class=\"dataframe\">\n",
       "  <thead>\n",
       "    <tr style=\"text-align: right;\">\n",
       "      <th></th>\n",
       "      <th>SEQN</th>\n",
       "      <th>heart_y</th>\n",
       "      <th>RIAGENDR.1</th>\n",
       "      <th>RIAGENDR.2</th>\n",
       "      <th>SXD021.1</th>\n",
       "      <th>SXD021.2</th>\n",
       "      <th>SXD021.7</th>\n",
       "      <th>SXQ800.1</th>\n",
       "      <th>SXQ800.2</th>\n",
       "      <th>SXQ800.7</th>\n",
       "      <th>...</th>\n",
       "      <th>PAD630</th>\n",
       "      <th>PAQ640</th>\n",
       "      <th>PAD645</th>\n",
       "      <th>PAQ655</th>\n",
       "      <th>PAD660</th>\n",
       "      <th>PAQ670</th>\n",
       "      <th>PAD675</th>\n",
       "      <th>PAD680</th>\n",
       "      <th>SLD010H</th>\n",
       "      <th>SLQ050</th>\n",
       "    </tr>\n",
       "  </thead>\n",
       "  <tbody>\n",
       "    <tr>\n",
       "      <th>0</th>\n",
       "      <td>73557</td>\n",
       "      <td>0</td>\n",
       "      <td>1</td>\n",
       "      <td>0</td>\n",
       "      <td>1</td>\n",
       "      <td>0</td>\n",
       "      <td>0</td>\n",
       "      <td>1</td>\n",
       "      <td>0</td>\n",
       "      <td>0</td>\n",
       "      <td>...</td>\n",
       "      <td>-0.342324</td>\n",
       "      <td>-0.238619</td>\n",
       "      <td>-0.242654</td>\n",
       "      <td>-0.336294</td>\n",
       "      <td>-0.325186</td>\n",
       "      <td>-0.384406</td>\n",
       "      <td>-0.858449</td>\n",
       "      <td>1.515755</td>\n",
       "      <td>-0.143085</td>\n",
       "      <td>-1.661907</td>\n",
       "    </tr>\n",
       "    <tr>\n",
       "      <th>1</th>\n",
       "      <td>73558</td>\n",
       "      <td>0</td>\n",
       "      <td>1</td>\n",
       "      <td>0</td>\n",
       "      <td>1</td>\n",
       "      <td>0</td>\n",
       "      <td>0</td>\n",
       "      <td>1</td>\n",
       "      <td>0</td>\n",
       "      <td>0</td>\n",
       "      <td>...</td>\n",
       "      <td>-0.224729</td>\n",
       "      <td>-0.238619</td>\n",
       "      <td>-0.242654</td>\n",
       "      <td>-0.336294</td>\n",
       "      <td>-0.325186</td>\n",
       "      <td>-0.384406</td>\n",
       "      <td>-0.858449</td>\n",
       "      <td>1.279325</td>\n",
       "      <td>1.126725</td>\n",
       "      <td>0.582294</td>\n",
       "    </tr>\n",
       "    <tr>\n",
       "      <th>2</th>\n",
       "      <td>73562</td>\n",
       "      <td>1</td>\n",
       "      <td>1</td>\n",
       "      <td>0</td>\n",
       "      <td>1</td>\n",
       "      <td>0</td>\n",
       "      <td>0</td>\n",
       "      <td>1</td>\n",
       "      <td>0</td>\n",
       "      <td>0</td>\n",
       "      <td>...</td>\n",
       "      <td>-0.342324</td>\n",
       "      <td>-0.238619</td>\n",
       "      <td>-0.242654</td>\n",
       "      <td>-0.336294</td>\n",
       "      <td>-0.325186</td>\n",
       "      <td>-0.384406</td>\n",
       "      <td>-0.858449</td>\n",
       "      <td>0.570036</td>\n",
       "      <td>-1.412896</td>\n",
       "      <td>0.582294</td>\n",
       "    </tr>\n",
       "    <tr>\n",
       "      <th>3</th>\n",
       "      <td>73564</td>\n",
       "      <td>0</td>\n",
       "      <td>0</td>\n",
       "      <td>1</td>\n",
       "      <td>1</td>\n",
       "      <td>0</td>\n",
       "      <td>0</td>\n",
       "      <td>1</td>\n",
       "      <td>0</td>\n",
       "      <td>0</td>\n",
       "      <td>...</td>\n",
       "      <td>-0.342324</td>\n",
       "      <td>-0.238619</td>\n",
       "      <td>-0.242654</td>\n",
       "      <td>-0.336294</td>\n",
       "      <td>-0.325186</td>\n",
       "      <td>-0.384406</td>\n",
       "      <td>-0.858449</td>\n",
       "      <td>-0.612112</td>\n",
       "      <td>1.126725</td>\n",
       "      <td>0.582294</td>\n",
       "    </tr>\n",
       "    <tr>\n",
       "      <th>4</th>\n",
       "      <td>73566</td>\n",
       "      <td>0</td>\n",
       "      <td>0</td>\n",
       "      <td>1</td>\n",
       "      <td>1</td>\n",
       "      <td>0</td>\n",
       "      <td>0</td>\n",
       "      <td>1</td>\n",
       "      <td>0</td>\n",
       "      <td>0</td>\n",
       "      <td>...</td>\n",
       "      <td>5.302265</td>\n",
       "      <td>-0.238619</td>\n",
       "      <td>-0.242654</td>\n",
       "      <td>-0.336294</td>\n",
       "      <td>-0.325186</td>\n",
       "      <td>-0.384406</td>\n",
       "      <td>-0.858449</td>\n",
       "      <td>-0.730327</td>\n",
       "      <td>-0.777991</td>\n",
       "      <td>-1.661907</td>\n",
       "    </tr>\n",
       "  </tbody>\n",
       "</table>\n",
       "<p>5 rows × 338 columns</p>\n",
       "</div>"
      ],
      "text/plain": [
       "    SEQN  heart_y  RIAGENDR.1  RIAGENDR.2  SXD021.1  SXD021.2  SXD021.7  \\\n",
       "0  73557        0           1           0         1         0         0   \n",
       "1  73558        0           1           0         1         0         0   \n",
       "2  73562        1           1           0         1         0         0   \n",
       "3  73564        0           0           1         1         0         0   \n",
       "4  73566        0           0           1         1         0         0   \n",
       "\n",
       "   SXQ800.1  SXQ800.2  SXQ800.7    ...       PAD630    PAQ640    PAD645  \\\n",
       "0         1         0         0    ...    -0.342324 -0.238619 -0.242654   \n",
       "1         1         0         0    ...    -0.224729 -0.238619 -0.242654   \n",
       "2         1         0         0    ...    -0.342324 -0.238619 -0.242654   \n",
       "3         1         0         0    ...    -0.342324 -0.238619 -0.242654   \n",
       "4         1         0         0    ...     5.302265 -0.238619 -0.242654   \n",
       "\n",
       "     PAQ655    PAD660    PAQ670    PAD675    PAD680   SLD010H    SLQ050  \n",
       "0 -0.336294 -0.325186 -0.384406 -0.858449  1.515755 -0.143085 -1.661907  \n",
       "1 -0.336294 -0.325186 -0.384406 -0.858449  1.279325  1.126725  0.582294  \n",
       "2 -0.336294 -0.325186 -0.384406 -0.858449  0.570036 -1.412896  0.582294  \n",
       "3 -0.336294 -0.325186 -0.384406 -0.858449 -0.612112  1.126725  0.582294  \n",
       "4 -0.336294 -0.325186 -0.384406 -0.858449 -0.730327 -0.777991 -1.661907  \n",
       "\n",
       "[5 rows x 338 columns]"
      ]
     },
     "execution_count": 7,
     "metadata": {},
     "output_type": "execute_result"
    }
   ],
   "source": [
    "import numpy as np\n",
    "import pandas as pd\n",
    "\n",
    "heart = pd.read_csv('heart_withoutsmote.csv')\n",
    "heart = heart.drop(['Unnamed: 0'], axis=1)\n",
    "heart.head()"
   ]
  },
  {
   "cell_type": "code",
   "execution_count": 5,
   "metadata": {},
   "outputs": [
    {
     "name": "stdout",
     "output_type": "stream",
     "text": [
      "Requirement already up-to-date: imbalanced-learn in /Users/apple/anaconda3/lib/python3.6/site-packages (0.4.3)\n",
      "Requirement already satisfied, skipping upgrade: numpy>=1.8.2 in /Users/apple/anaconda3/lib/python3.6/site-packages (from imbalanced-learn) (1.14.3)\n",
      "Requirement already satisfied, skipping upgrade: scipy>=0.13.3 in /Users/apple/anaconda3/lib/python3.6/site-packages (from imbalanced-learn) (1.1.0)\n",
      "Requirement already satisfied, skipping upgrade: scikit-learn>=0.20 in /Users/apple/anaconda3/lib/python3.6/site-packages (from imbalanced-learn) (0.20.3)\n"
     ]
    }
   ],
   "source": [
    "!pip install -U imbalanced-learn\n",
    "from imblearn.over_sampling import SMOTENC"
   ]
  },
  {
   "cell_type": "code",
   "execution_count": 18,
   "metadata": {},
   "outputs": [
    {
     "name": "stderr",
     "output_type": "stream",
     "text": [
      "/Users/apple/anaconda3/lib/python3.6/site-packages/sklearn/utils/validation.py:761: DataConversionWarning: A column-vector y was passed when a 1d array was expected. Please change the shape of y to (n_samples, ), for example using ravel().\n",
      "  y = column_or_1d(y, warn=True)\n"
     ]
    }
   ],
   "source": [
    "y = heart.loc[: , \"heart_y\"]\n",
    "y = y.to_frame(\"heart_y\")\n",
    "X = heart.iloc[: , 2 : 338]\n",
    "\n",
    "arr = np.arange(300)\n",
    "smote_nc = SMOTENC(categorical_features = arr, random_state=0)\n",
    "X_resampled, y_resampled = smote_nc.fit_resample(X, y)\n"
   ]
  },
  {
   "cell_type": "code",
   "execution_count": 19,
   "metadata": {},
   "outputs": [
    {
     "data": {
      "text/plain": [
       "array([[ 1.        ,  0.        ,  1.        , ...,  1.51575504,\n",
       "        -0.14308545, -1.66190661],\n",
       "       [ 1.        ,  0.        ,  1.        , ...,  1.27932532,\n",
       "         1.12672548,  0.5822944 ],\n",
       "       [ 1.        ,  0.        ,  1.        , ...,  0.57003616,\n",
       "        -1.41289637,  0.5822944 ],\n",
       "       ...,\n",
       "       [ 1.        ,  0.        ,  1.        , ..., -0.84854217,\n",
       "         0.22947046, -1.53205778],\n",
       "       [ 1.        ,  0.        ,  1.        , ...,  0.89738528,\n",
       "         0.49182002,  0.5822944 ],\n",
       "       [ 0.        ,  1.        ,  1.        , ...,  0.20318933,\n",
       "        -0.42777041, -0.42398185]])"
      ]
     },
     "execution_count": 19,
     "metadata": {},
     "output_type": "execute_result"
    }
   ],
   "source": [
    "X_resampled"
   ]
  },
  {
   "cell_type": "code",
   "execution_count": 22,
   "metadata": {},
   "outputs": [],
   "source": [
    "X_dataframe = pd.DataFrame(X_resampled)     \n",
    "y_dataframe = pd.DataFrame(y_resampled) "
   ]
  },
  {
   "cell_type": "code",
   "execution_count": 24,
   "metadata": {},
   "outputs": [],
   "source": [
    "X_dataframe.to_csv('heartX.csv')\n",
    "y_dataframe.to_csv('hearty.csv')"
   ]
  },
  {
   "cell_type": "code",
   "execution_count": null,
   "metadata": {},
   "outputs": [],
   "source": []
  }
 ],
 "metadata": {
  "kernelspec": {
   "display_name": "Python 3",
   "language": "python",
   "name": "python3"
  },
  "language_info": {
   "codemirror_mode": {
    "name": "ipython",
    "version": 3
   },
   "file_extension": ".py",
   "mimetype": "text/x-python",
   "name": "python",
   "nbconvert_exporter": "python",
   "pygments_lexer": "ipython3",
   "version": "3.6.5"
  }
 },
 "nbformat": 4,
 "nbformat_minor": 2
}
